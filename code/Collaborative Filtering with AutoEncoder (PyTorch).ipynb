{
 "cells": [
  {
   "cell_type": "code",
   "execution_count": 1,
   "metadata": {},
   "outputs": [],
   "source": [
    "import pickle\n",
    "import pandas as pd\n",
    "import numpy as np\n",
    "import os, sys, gc \n",
    "\n",
    "from tqdm.notebook import tqdm as tqdm_notebook\n",
    "import warnings\n",
    "import re"
   ]
  },
  {
   "cell_type": "code",
   "execution_count": 2,
   "metadata": {},
   "outputs": [],
   "source": [
    "from torch.utils.data import Dataset, DataLoader\n",
    "\n",
    "class MovieLenseDataset(Dataset):\n",
    "    \"\"\" MovieLense dataset.\"\"\"\n",
    "    # Initialize your data, download, etc.\n",
    "    def __init__(self):\n",
    "        # self.movie = pd.read_csv(\"ratings.csv\")\n",
    "        \n",
    "        input_movie_path = 'C:/Users/User/Documents/GitHub/Daejeon-Learning-Day/input/nf_prize_dataset.tar/download/training_set/training_set/'\n",
    "        # os.listdir : 해당 경로에 있는 모든 파일들을 불러오는 명령어 \n",
    "        file_list = os.listdir(input_movie_path)        \n",
    "        \n",
    "        movie_df_list = []\n",
    "        exclude_file_lst = ['training_set']\n",
    "        for file in tqdm_notebook(file_list):\n",
    "            # 예외처리 \n",
    "            if file in exclude_file_lst:\n",
    "                continue \n",
    "            else:\n",
    "                file_path = input_movie_path + file\n",
    "                df_temp = pd.read_csv(file_path, header=None, names=['movieId', 'rating', 'date'])[1:]\n",
    "                df_temp['userId'] = int(file.split('_')[1].split('.')[0])\n",
    "                movie_df_list.append(df_temp)\n",
    "\n",
    "        self.movie = pd.concat(movie_df_list)\n",
    "        del self.movie['date']\n",
    "        \n",
    "        self.user2idx = {}\n",
    "        for i, l in enumerate(self.movie['userId'].unique()):\n",
    "            self.user2idx[l] = i\n",
    "\n",
    "        self.movie2idx = {}\n",
    "        for i, l in enumerate(self.movie['movieId'].unique()):\n",
    "            self.movie2idx[l] = i\n",
    "        \n",
    "        useridx = self.movie['useridx'] = self.movie['userId'].apply(lambda x: self.user2idx[x]).values\n",
    "        movieidx = self.movie['movieidx'] = self.movie['movieId'].apply(lambda x: self.movie2idx[x]).values\n",
    "        rating = self.movie['rating'].values\n",
    "        \n",
    "        self.idx2user = {i: user for user, i in self.user2idx.items()}\n",
    "        self.idx2movie = {i: item for item, i in self.movie2idx.items()}\n",
    "        \n",
    "        i = torch.LongTensor([useridx, movieidx])\n",
    "        v = torch.FloatTensor(rating)\n",
    "        self.x = torch.sparse.FloatTensor(i, v, torch.Size([len(self.user2idx),len(self.movie2idx)])).to_dense()\n",
    "        \n",
    "    def __getitem__(self, index):\n",
    "        return self.x[index]\n",
    "\n",
    "    def __len__(self):\n",
    "        return len(self.x)"
   ]
  },
  {
   "cell_type": "code",
   "execution_count": 3,
   "metadata": {},
   "outputs": [],
   "source": [
    "import torch\n",
    "import torch.nn as nn\n",
    "import torch.nn.functional as F\n",
    "import torch.nn.init as weight_init\n",
    "from torch.autograd import Variable\n",
    "import torchvision\n",
    "\n",
    "def MSEloss(inputs, targets, size_average=False):\n",
    "    mask = targets != 0\n",
    "    num_ratings = torch.sum(mask.float())\n",
    "    criterion = nn.MSELoss(reduction='sum' if not size_average else 'mean')\n",
    "    return criterion(inputs * mask.float(), targets), Variable(torch.Tensor([1.0])) if size_average else num_ratings\n",
    "\n",
    "# 참고 코드 : https://github.com/NVIDIA/DeepRecommender/blob/master/reco_encoder/model/model.py\n",
    "class AutoEncoder(nn.Module):\n",
    "    \"\"\"\n",
    "    Describes an AutoEncoder model\n",
    "    :param self.layer_sizes: Encoder network description. Should start with feature size (e.g. dimensionality of x).\n",
    "    For example: [10000, 1024, 512] will result in:\n",
    "      - encoder 2 layers: 10000x1024 and 1024x512. Representation layer (z) will be 512\n",
    "      - decoder 2 layers: 512x1024 and 1024x10000.\n",
    "    :param dp_drop_prob: (default: 0.0) Dropout drop probability\n",
    "    \"\"\"\n",
    "    def __init__(self, layer_sizes, drop_prop=0):\n",
    "        super().__init__() # 부모 클래스(torch.nn.Module)의 init을 불러옴 \n",
    "        self.drop_prop = nn.Dropout(drop_prop)\n",
    "        self.layer_sizes = layer_sizes\n",
    "        \n",
    "        # encode_weight : ex) [10000, 1024], [1024, 512]\n",
    "        self.encode_w = nn.ParameterList([nn.Parameter(torch.rand(self.layer_sizes[i+1], self.layer_sizes[i])) for i in range(len(self.layer_sizes)-1)])\n",
    "        # weight initializer \n",
    "        for ind, w in enumerate(self.encode_w): \n",
    "            weight_init.xavier_uniform_(w)\n",
    "        \n",
    "        # decoder_layers\n",
    "        reversed_enc_layers = list(reversed(self.layer_sizes))\n",
    "        self.decode_w = nn.ParameterList([nn.Parameter(torch.rand(reversed_enc_layers[i+1], reversed_enc_layers[i])) for i in range(len(reversed_enc_layers)-1)])\n",
    "         # weight initializer \n",
    "        for ind, w in enumerate(self.decode_w): \n",
    "            weight_init.xavier_uniform_(w)       \n",
    "        \n",
    "        # encoder_bias \n",
    "        self.encode_b = nn.ParameterList([nn.Parameter(torch.zeros(self.layer_sizes[i+1])) for i in range(len(self.layer_sizes)-1)])\n",
    "        self.decode_b = nn.ParameterList([nn.Parameter(torch.zeros(reversed_enc_layers[i+1])) for i in range(len(reversed_enc_layers) - 1)])\n",
    "        \n",
    "    def encode(self, x):\n",
    "        for ind, w in enumerate(self.encode_w):\n",
    "            # activation function \n",
    "            # 논문에 따르면 Encoder의 모든 계층에 activation function을 적용했음 \n",
    "            x = F.selu(input=F.linear(input=x, weight=w, bias=self.encode_b[ind]))\n",
    "        if self.drop_prop.p > 0: x = self.drop_prop(x)\n",
    "        return x\n",
    "    \n",
    "    def decode(self, x):\n",
    "        for ind, w in enumerate(self.decode_w):\n",
    "            # activation function\n",
    "            # 논문에 따르면 Decoder의 마지막 게층은 activation function을 적용하지 않았음 \n",
    "            if ind != (len(self.layer_sizes)-1):\n",
    "                x = F.selu(input=F.linear(input=x, weight=w, bias=self.decode_b[ind]))\n",
    "            else:\n",
    "                x = F.linear(input=x, weight=w, bias=self.decode_b[ind])\n",
    "        return x\n",
    "    \n",
    "    def forward(self, x):\n",
    "        return self.decode(self.encode(x))"
   ]
  },
  {
   "cell_type": "code",
   "execution_count": 8,
   "metadata": {},
   "outputs": [
    {
     "data": {
      "application/vnd.jupyter.widget-view+json": {
       "model_id": "8be5185708cc44458870b3244616e73d",
       "version_major": 2,
       "version_minor": 0
      },
      "text/plain": [
       "HBox(children=(FloatProgress(value=0.0, max=17770.0), HTML(value='')))"
      ]
     },
     "metadata": {},
     "output_type": "display_data"
    },
    {
     "name": "stdout",
     "output_type": "stream",
     "text": [
      "\n"
     ]
    }
   ],
   "source": [
    "train_dataloader = DataLoader(MovieLenseDataset(), batch_size=512, shuffle=True)"
   ]
  },
  {
   "cell_type": "code",
   "execution_count": 9,
   "metadata": {},
   "outputs": [
    {
     "data": {
      "text/plain": [
       "AutoEncoder(\n",
       "  (drop_prop): Dropout(p=0.3, inplace=False)\n",
       "  (encode_w): ParameterList(\n",
       "      (0): Parameter containing: [torch.FloatTensor of size 512x480189]\n",
       "      (1): Parameter containing: [torch.FloatTensor of size 256x512]\n",
       "      (2): Parameter containing: [torch.FloatTensor of size 128x256]\n",
       "  )\n",
       "  (decode_w): ParameterList(\n",
       "      (0): Parameter containing: [torch.FloatTensor of size 256x128]\n",
       "      (1): Parameter containing: [torch.FloatTensor of size 512x256]\n",
       "      (2): Parameter containing: [torch.FloatTensor of size 480189x512]\n",
       "  )\n",
       "  (encode_b): ParameterList(\n",
       "      (0): Parameter containing: [torch.FloatTensor of size 512]\n",
       "      (1): Parameter containing: [torch.FloatTensor of size 256]\n",
       "      (2): Parameter containing: [torch.FloatTensor of size 128]\n",
       "  )\n",
       "  (decode_b): ParameterList(\n",
       "      (0): Parameter containing: [torch.FloatTensor of size 256]\n",
       "      (1): Parameter containing: [torch.FloatTensor of size 512]\n",
       "      (2): Parameter containing: [torch.FloatTensor of size 480189]\n",
       "  )\n",
       ")"
      ]
     },
     "execution_count": 9,
     "metadata": {},
     "output_type": "execute_result"
    }
   ],
   "source": [
    "layer_size = len(train_dataloader.dataset[0])\n",
    "dev = torch.cuda.set_device(\"cuda:0\") if torch.cuda.is_available() else torch.device(\"cpu\")\n",
    "\n",
    "model = AutoEncoder(layer_sizes=[layer_size, 512, 256, 128], drop_prop=0.3).to(dev)\n",
    "model"
   ]
  },
  {
   "cell_type": "code",
   "execution_count": 10,
   "metadata": {},
   "outputs": [],
   "source": [
    "optimizer = torch.optim.SGD(model.parameters(), lr=1e-2)  # learning rate"
   ]
  },
  {
   "cell_type": "code",
   "execution_count": 11,
   "metadata": {},
   "outputs": [
    {
     "data": {
      "application/vnd.jupyter.widget-view+json": {
       "model_id": "75a6306d348b4a54aebea0366b82da1f",
       "version_major": 2,
       "version_minor": 0
      },
      "text/plain": [
       "HBox(children=(FloatProgress(value=0.0, max=10.0), HTML(value='')))"
      ]
     },
     "metadata": {},
     "output_type": "display_data"
    },
    {
     "name": "stdout",
     "output_type": "stream",
     "text": [
      "Epoch    1/10 Loss: 0.000332\n",
      "Epoch    2/10 Loss: 0.000333\n",
      "Epoch    3/10 Loss: 0.000332\n",
      "Epoch    4/10 Loss: 0.000333\n",
      "Epoch    5/10 Loss: 0.000333\n",
      "Epoch    6/10 Loss: 0.000333\n",
      "Epoch    7/10 Loss: 0.000332\n",
      "Epoch    8/10 Loss: 0.000333\n",
      "Epoch    9/10 Loss: 0.000333\n",
      "Epoch   10/10 Loss: 0.000333\n",
      "\n"
     ]
    }
   ],
   "source": [
    "nb_epochs = 10\n",
    "for epoch in tqdm_notebook(range(0, nb_epochs)):\n",
    "    train_loss = 0\n",
    "    for train_batch in train_dataloader:\n",
    "        train_batch = train_batch.to(dev)\n",
    "        optimizer.zero_grad()\n",
    "        \n",
    "        prediction = model(train_batch)\n",
    "        loss, num_ratings = MSEloss(train_batch, prediction)\n",
    "        loss = loss / num_ratings\n",
    "        \n",
    "        loss.backward()\n",
    "        train_loss += loss.item() \n",
    "        optimizer.step()\n",
    "    if epoch % 1 == 0: \n",
    "        print('Epoch {:4d}/{} Loss: {:.6f}'.format(epoch+1, nb_epochs, train_loss/len(train_dataloader.dataset)))"
   ]
  },
  {
   "cell_type": "code",
   "execution_count": null,
   "metadata": {},
   "outputs": [],
   "source": []
  }
 ],
 "metadata": {
  "kernelspec": {
   "display_name": "pytorch",
   "language": "python",
   "name": "pytorch"
  },
  "language_info": {
   "codemirror_mode": {
    "name": "ipython",
    "version": 3
   },
   "file_extension": ".py",
   "mimetype": "text/x-python",
   "name": "python",
   "nbconvert_exporter": "python",
   "pygments_lexer": "ipython3",
   "version": "3.7.7"
  }
 },
 "nbformat": 4,
 "nbformat_minor": 4
}
