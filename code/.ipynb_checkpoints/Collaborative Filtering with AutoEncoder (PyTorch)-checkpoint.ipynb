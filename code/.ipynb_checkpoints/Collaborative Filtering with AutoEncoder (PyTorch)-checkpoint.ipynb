{
 "cells": [
  {
   "cell_type": "code",
   "execution_count": 1,
   "metadata": {},
   "outputs": [],
   "source": [
    "import pickle\n",
    "import pandas as pd\n",
    "import numpy as np\n",
    "import os, sys, gc \n",
    "from plotnine import *\n",
    "import plotnine\n",
    "\n",
    "from tqdm.notebook import tqdm as tqdm_notebook\n",
    "import seaborn as sns\n",
    "import warnings\n",
    "import matplotlib.pyplot as plt\n",
    "import matplotlib.font_manager as fm\n",
    "import matplotlib as mpl\n",
    "from matplotlib import rc\n",
    "import re\n",
    "from matplotlib.ticker import PercentFormatter\n",
    "import datetime\n",
    "from math import log # IDF 계산을 위해"
   ]
  },
  {
   "cell_type": "code",
   "execution_count": 7,
   "metadata": {},
   "outputs": [],
   "source": [
    "from torch.utils.data import Dataset, DataLoader\n",
    "\n",
    "class MovieLenseDataset(Dataset):\n",
    "    \"\"\" MovieLense dataset.\"\"\"\n",
    "    # Initialize your data, download, etc.\n",
    "    def __init__(self):\n",
    "        self.movie = pd.read_csv(\"ratings.csv\")\n",
    "        self.user2idx = {}\n",
    "        for i, l in enumerate(self.movie['userId'].unique()):\n",
    "            self.user2idx[l] = i\n",
    "\n",
    "        self.movie2idx = {}\n",
    "        for i, l in enumerate(movie['movieId'].unique()):\n",
    "            self.movie2idx[l] = i\n",
    "        \n",
    "        useridx = movie['useridx'] = movie['userId'].apply(lambda x: self.user2idx[x]).values\n",
    "        movieidx = movie['movieidx'] = movie['movieId'].apply(lambda x: self.movie2idx[x]).values\n",
    "        rating = movie['rating'].values\n",
    "        \n",
    "        self.idx2user = {i: user for user, i in self.user2idx.items()}\n",
    "        self.idx2movie = {i: item for item, i in self.movie2idx.items()}\n",
    "        \n",
    "        i = torch.LongTensor([useridx, movieidx])\n",
    "        v = torch.FloatTensor(rating)\n",
    "        self.x = torch.sparse.FloatTensor(i, v, torch.Size([len(self.user2idx),len(self.movie2idx)])).to_dense()\n",
    "        \n",
    "    def __getitem__(self, index):\n",
    "        return self.x[index]\n",
    "\n",
    "    def __len__(self):\n",
    "        return len(self.x)"
   ]
  },
  {
   "cell_type": "code",
   "execution_count": 10,
   "metadata": {},
   "outputs": [],
   "source": [
    "import torch\n",
    "import torch.nn as nn\n",
    "import torch.nn.functional as F\n",
    "import torch.nn.init as weight_init\n",
    "from torch.autograd import Variable\n",
    "\n",
    "def MSEloss(inputs, targets, size_average=False):\n",
    "    mask = targets != 0\n",
    "    num_ratings = torch.sum(mask.float())\n",
    "    criterion = nn.MSELoss(reduction='sum' if not size_average else 'mean')\n",
    "    return criterion(inputs * mask.float(), targets), Variable(torch.Tensor([1.0])) if size_average else num_ratings\n",
    "\n",
    "# 참고 코드 : https://github.com/NVIDIA/DeepRecommender/blob/master/reco_encoder/model/model.py\n",
    "class AutoEncoder(nn.Module):\n",
    "    \"\"\"\n",
    "    Describes an AutoEncoder model\n",
    "    :param self.layer_sizes: Encoder network description. Should start with feature size (e.g. dimensionality of x).\n",
    "    For example: [10000, 1024, 512] will result in:\n",
    "      - encoder 2 layers: 10000x1024 and 1024x512. Representation layer (z) will be 512\n",
    "      - decoder 2 layers: 512x1024 and 1024x10000.\n",
    "    :param dp_drop_prob: (default: 0.0) Dropout drop probability\n",
    "    \"\"\"\n",
    "    def __init__(self, layer_sizes, drop_prop=0):\n",
    "        super().__init__() # 부모 클래스(torch.nn.Module)의 init을 불러옴 \n",
    "        print(\"AutoEncoder\")\n",
    "        self.drop_prop = nn.Dropout(drop_prop)\n",
    "        self.layer_sizes = layer_sizes\n",
    "        \n",
    "        # encode_weight : ex) [10000, 1024], [1024, 512]\n",
    "        self.encode_w = nn.ParameterList([nn.Parameter(torch.rand(self.layer_sizes[i+1], self.layer_sizes[i])) for i in range(len(self.layer_sizes)-1)])\n",
    "        # weight initializer \n",
    "        for ind, w in enumerate(self.encode_w): \n",
    "            weight_init.xavier_uniform_(w)\n",
    "        \n",
    "        # decoder_layers\n",
    "        reversed_enc_layers = list(reversed(self.layer_sizes))\n",
    "        self.decode_w = nn.ParameterList([nn.Parameter(torch.rand(reversed_enc_layers[i+1], reversed_enc_layers[i])) for i in range(len(reversed_enc_layers)-1)])\n",
    "         # weight initializer \n",
    "        for ind, w in enumerate(self.decode_w): \n",
    "            weight_init.xavier_uniform_(w)       \n",
    "        \n",
    "        # encoder_bias \n",
    "        self.encode_b = nn.ParameterList([nn.Parameter(torch.zeros(self.layer_sizes[i+1])) for i in range(len(self.layer_sizes)-1)])\n",
    "        self.decode_b = nn.ParameterList([nn.Parameter(torch.zeros(reversed_enc_layers[i+1])) for i in range(len(reversed_enc_layers) - 1)])\n",
    "        \n",
    "    def encode(self, x):\n",
    "        for ind, w in enumerate(self.encode_w):\n",
    "            # activation function \n",
    "            # 논문에 따르면 Encoder의 모든 계층에 activation function을 적용했음 \n",
    "            x = F.selu(input=F.linear(input=x, weight=w, bias=self.encode_b[ind]))\n",
    "        if self.drop_prop.p > 0: x = self.drop_prop(x)\n",
    "        return x\n",
    "    \n",
    "    def decode(self, x):\n",
    "        for ind, w in enumerate(self.decode_w):\n",
    "            # activation function\n",
    "            # 논문에 따르면 Decoder의 마지막 게층은 activation function을 적용하지 않았음 \n",
    "            if ind != (len(self.layer_sizes)-1):\n",
    "                x = F.selu(input=F.linear(input=x, weight=w, bias=self.decode_b[ind]))\n",
    "            else:\n",
    "                x = F.linear(input=x, weight=w, bias=self.decode_b[ind])\n",
    "        return x\n",
    "    \n",
    "    def forward(self, x):\n",
    "        return self.decode(self.encode(x))"
   ]
  },
  {
   "cell_type": "code",
   "execution_count": 11,
   "metadata": {},
   "outputs": [
    {
     "ename": "NameError",
     "evalue": "name 'movie' is not defined",
     "output_type": "error",
     "traceback": [
      "\u001b[1;31m---------------------------------------------------------------------------\u001b[0m",
      "\u001b[1;31mNameError\u001b[0m                                 Traceback (most recent call last)",
      "\u001b[1;32m<ipython-input-11-740558d24673>\u001b[0m in \u001b[0;36m<module>\u001b[1;34m\u001b[0m\n\u001b[1;32m----> 1\u001b[1;33m \u001b[0mtrain_dataloader\u001b[0m \u001b[1;33m=\u001b[0m \u001b[0mDataLoader\u001b[0m\u001b[1;33m(\u001b[0m\u001b[0mMovieLenseDataset\u001b[0m\u001b[1;33m(\u001b[0m\u001b[1;33m)\u001b[0m\u001b[1;33m,\u001b[0m \u001b[0mbatch_size\u001b[0m\u001b[1;33m=\u001b[0m\u001b[1;36m128\u001b[0m\u001b[1;33m,\u001b[0m \u001b[0mshuffle\u001b[0m\u001b[1;33m=\u001b[0m\u001b[1;32mTrue\u001b[0m\u001b[1;33m)\u001b[0m\u001b[1;33m\u001b[0m\u001b[1;33m\u001b[0m\u001b[0m\n\u001b[0m",
      "\u001b[1;32m<ipython-input-7-55a0465c356a>\u001b[0m in \u001b[0;36m__init__\u001b[1;34m(self)\u001b[0m\n\u001b[0;32m      7\u001b[0m         \u001b[0mself\u001b[0m\u001b[1;33m.\u001b[0m\u001b[0mmovie\u001b[0m \u001b[1;33m=\u001b[0m \u001b[0mpd\u001b[0m\u001b[1;33m.\u001b[0m\u001b[0mread_csv\u001b[0m\u001b[1;33m(\u001b[0m\u001b[1;34m\"ratings.csv\"\u001b[0m\u001b[1;33m)\u001b[0m\u001b[1;33m\u001b[0m\u001b[1;33m\u001b[0m\u001b[0m\n\u001b[0;32m      8\u001b[0m         \u001b[0mself\u001b[0m\u001b[1;33m.\u001b[0m\u001b[0muser2idx\u001b[0m \u001b[1;33m=\u001b[0m \u001b[1;33m{\u001b[0m\u001b[1;33m}\u001b[0m\u001b[1;33m\u001b[0m\u001b[1;33m\u001b[0m\u001b[0m\n\u001b[1;32m----> 9\u001b[1;33m         \u001b[1;32mfor\u001b[0m \u001b[0mi\u001b[0m\u001b[1;33m,\u001b[0m \u001b[0ml\u001b[0m \u001b[1;32min\u001b[0m \u001b[0menumerate\u001b[0m\u001b[1;33m(\u001b[0m\u001b[0mmovie\u001b[0m\u001b[1;33m[\u001b[0m\u001b[1;34m'userId'\u001b[0m\u001b[1;33m]\u001b[0m\u001b[1;33m.\u001b[0m\u001b[0munique\u001b[0m\u001b[1;33m(\u001b[0m\u001b[1;33m)\u001b[0m\u001b[1;33m)\u001b[0m\u001b[1;33m:\u001b[0m\u001b[1;33m\u001b[0m\u001b[1;33m\u001b[0m\u001b[0m\n\u001b[0m\u001b[0;32m     10\u001b[0m             \u001b[0mself\u001b[0m\u001b[1;33m.\u001b[0m\u001b[0muser2idx\u001b[0m\u001b[1;33m[\u001b[0m\u001b[0ml\u001b[0m\u001b[1;33m]\u001b[0m \u001b[1;33m=\u001b[0m \u001b[0mi\u001b[0m\u001b[1;33m\u001b[0m\u001b[1;33m\u001b[0m\u001b[0m\n\u001b[0;32m     11\u001b[0m \u001b[1;33m\u001b[0m\u001b[0m\n",
      "\u001b[1;31mNameError\u001b[0m: name 'movie' is not defined"
     ]
    }
   ],
   "source": [
    "train_dataloader = DataLoader(MovieLenseDataset(), batch_size=128, shuffle=True)"
   ]
  },
  {
   "cell_type": "code",
   "execution_count": null,
   "metadata": {},
   "outputs": [],
   "source": [
    "model = AutoEncoder(layer_sizes=[9066, 64, 32], drop_prop=0.3)\n",
    "model"
   ]
  },
  {
   "cell_type": "code",
   "execution_count": 298,
   "metadata": {},
   "outputs": [],
   "source": [
    "dev = torch.device(\"cuda\") if torch.cuda.is_available() else torch.device(\"cpu\")\n",
    "optimizer = torch.optim.SGD(model.parameters(), lr=1e-5)  # learning rate"
   ]
  },
  {
   "cell_type": "code",
   "execution_count": 305,
   "metadata": {},
   "outputs": [
    {
     "data": {
      "application/vnd.jupyter.widget-view+json": {
       "model_id": "42462be999e447d1a5b0e3f6bc086d45",
       "version_major": 2,
       "version_minor": 0
      },
      "text/plain": [
       "HBox(children=(FloatProgress(value=0.0), HTML(value='')))"
      ]
     },
     "metadata": {},
     "output_type": "display_data"
    },
    {
     "name": "stdout",
     "output_type": "stream",
     "text": [
      "Epoch    1/100 Loss: 0.001100\n",
      "Epoch   11/100 Loss: 0.001130\n",
      "Epoch   21/100 Loss: 0.001066\n",
      "Epoch   31/100 Loss: 0.001077\n",
      "Epoch   41/100 Loss: 0.001143\n",
      "Epoch   51/100 Loss: 0.001064\n",
      "Epoch   61/100 Loss: 0.001087\n",
      "Epoch   71/100 Loss: 0.001064\n",
      "Epoch   81/100 Loss: 0.001085\n",
      "Epoch   91/100 Loss: 0.001108\n",
      "\n"
     ]
    }
   ],
   "source": [
    "nb_epochs = 100\n",
    "for epoch in tqdm_notebook(range(0, nb_epochs)):\n",
    "    train_loss = 0\n",
    "    for train_batch in train_dataloader:\n",
    "        optimizer.zero_grad()\n",
    "        \n",
    "        prediction = model(train_batch)\n",
    "        loss, num_ratings = MSEloss(train_batch, prediction)\n",
    "        loss = loss / num_ratings\n",
    "        \n",
    "        loss.backward()\n",
    "        train_loss += loss.item() \n",
    "        optimizer.step()\n",
    "    if epoch % 10 == 0: \n",
    "        print('Epoch {:4d}/{} Loss: {:.6f}'.format(epoch+1, nb_epochs, train_loss/len(train_dataloader.dataset)))"
   ]
  },
  {
   "cell_type": "code",
   "execution_count": 315,
   "metadata": {},
   "outputs": [
    {
     "data": {
      "text/plain": [
       "tensor([[ 0.0940,  0.0376,  0.0511,  ...,  0.0011,  0.0039,  0.0061],\n",
       "        [ 0.8432,  0.0726,  0.1038,  ..., -0.0033, -0.0042,  0.0053],\n",
       "        [ 0.0682,  0.0573,  0.0142,  ...,  0.0125,  0.0062,  0.0078],\n",
       "        ...,\n",
       "        [ 0.1156, -0.0770,  0.0377,  ...,  0.0060,  0.0028,  0.0054],\n",
       "        [-0.0059, -0.1544,  0.1159,  ..., -0.0086, -0.0073,  0.0086],\n",
       "        [ 0.0678,  0.6561, -0.1429,  ...,  0.0305,  0.0072,  0.0028]],\n",
       "       grad_fn=<EluBackward>)"
      ]
     },
     "execution_count": 315,
     "metadata": {},
     "output_type": "execute_result"
    }
   ],
   "source": [
    "model.decode(model.encode(train_dataloader.dataset[:]))"
   ]
  },
  {
   "cell_type": "code",
   "execution_count": 318,
   "metadata": {},
   "outputs": [
    {
     "ename": "TypeError",
     "evalue": "encode() missing 1 required positional argument: 'x'",
     "output_type": "error",
     "traceback": [
      "\u001b[1;31m---------------------------------------------------------------------------\u001b[0m",
      "\u001b[1;31mTypeError\u001b[0m                                 Traceback (most recent call last)",
      "\u001b[1;32m<ipython-input-318-07528ec65097>\u001b[0m in \u001b[0;36m<module>\u001b[1;34m\u001b[0m\n\u001b[1;32m----> 1\u001b[1;33m \u001b[0mmodel\u001b[0m\u001b[1;33m.\u001b[0m\u001b[0mencode\u001b[0m\u001b[1;33m(\u001b[0m\u001b[1;33m)\u001b[0m\u001b[1;33m.\u001b[0m\u001b[0mweight\u001b[0m\u001b[1;33m\u001b[0m\u001b[1;33m\u001b[0m\u001b[0m\n\u001b[0m",
      "\u001b[1;31mTypeError\u001b[0m: encode() missing 1 required positional argument: 'x'"
     ]
    }
   ],
   "source": [
    "model.encode().weight"
   ]
  },
  {
   "cell_type": "code",
   "execution_count": 311,
   "metadata": {},
   "outputs": [
    {
     "data": {
      "text/plain": [
       "tensor([[2.5000, 3.0000, 3.0000,  ..., 0.0000, 0.0000, 0.0000],\n",
       "        [0.0000, 0.0000, 0.0000,  ..., 0.0000, 0.0000, 0.0000],\n",
       "        [0.0000, 0.0000, 0.0000,  ..., 0.0000, 0.0000, 0.0000],\n",
       "        ...,\n",
       "        [0.0000, 0.0000, 0.0000,  ..., 0.0000, 0.0000, 0.0000],\n",
       "        [0.0000, 0.0000, 0.0000,  ..., 0.0000, 0.0000, 0.0000],\n",
       "        [0.0000, 0.0000, 0.0000,  ..., 0.0000, 0.0000, 0.0000]])"
      ]
     },
     "execution_count": 311,
     "metadata": {},
     "output_type": "execute_result"
    }
   ],
   "source": [
    "train_dataloader.dataset[:]"
   ]
  },
  {
   "cell_type": "code",
   "execution_count": 304,
   "metadata": {},
   "outputs": [
    {
     "data": {
      "text/plain": [
       "tensor([[2.5000, 3.0000, 3.0000,  ..., 0.0000, 0.0000, 0.0000],\n",
       "        [0.0000, 0.0000, 0.0000,  ..., 0.0000, 0.0000, 0.0000],\n",
       "        [0.0000, 0.0000, 0.0000,  ..., 0.0000, 0.0000, 0.0000],\n",
       "        ...,\n",
       "        [0.0000, 0.0000, 0.0000,  ..., 0.0000, 0.0000, 0.0000],\n",
       "        [0.0000, 0.0000, 0.0000,  ..., 0.0000, 0.0000, 0.0000],\n",
       "        [0.0000, 0.0000, 0.0000,  ..., 0.0000, 0.0000, 0.0000]])"
      ]
     },
     "execution_count": 304,
     "metadata": {},
     "output_type": "execute_result"
    }
   ],
   "source": [
    "train_dataloader.dataset[:]"
   ]
  },
  {
   "cell_type": "code",
   "execution_count": null,
   "metadata": {},
   "outputs": [],
   "source": []
  }
 ],
 "metadata": {
  "kernelspec": {
   "display_name": "Python 3",
   "language": "python",
   "name": "python3"
  },
  "language_info": {
   "codemirror_mode": {
    "name": "ipython",
    "version": 3
   },
   "file_extension": ".py",
   "mimetype": "text/x-python",
   "name": "python",
   "nbconvert_exporter": "python",
   "pygments_lexer": "ipython3",
   "version": "3.7.3"
  }
 },
 "nbformat": 4,
 "nbformat_minor": 4
}
