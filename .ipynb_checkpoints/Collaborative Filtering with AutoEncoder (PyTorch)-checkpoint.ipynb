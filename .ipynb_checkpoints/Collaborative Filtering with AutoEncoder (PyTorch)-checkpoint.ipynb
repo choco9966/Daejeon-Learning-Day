{
 "cells": [
  {
   "cell_type": "code",
   "execution_count": 1,
   "metadata": {},
   "outputs": [],
   "source": [
    "import pickle\n",
    "import pandas as pd\n",
    "import numpy as np\n",
    "import os, sys, gc \n",
    "from plotnine import *\n",
    "import plotnine\n",
    "\n",
    "from tqdm.notebook import tqdm as tqdm_notebook\n",
    "import seaborn as sns\n",
    "import warnings\n",
    "import matplotlib.pyplot as plt\n",
    "import matplotlib.font_manager as fm\n",
    "import matplotlib as mpl\n",
    "from matplotlib import rc\n",
    "import re\n",
    "from matplotlib.ticker import PercentFormatter\n",
    "import datetime\n",
    "from math import log # IDF 계산을 위해"
   ]
  },
  {
   "cell_type": "code",
   "execution_count": 2,
   "metadata": {},
   "outputs": [],
   "source": [
    "movie = pd.read_csv(\"./ratings.csv\")"
   ]
  },
  {
   "cell_type": "code",
   "execution_count": 3,
   "metadata": {},
   "outputs": [],
   "source": [
    "user2idx = {}\n",
    "for i, l in enumerate(movie['userId'].unique()):\n",
    "    user2idx[l] = i\n",
    "\n",
    "movie2idx = {}\n",
    "for i, l in enumerate(movie['movieId'].unique()):\n",
    "    movie2idx[l] = i\n",
    "\n",
    "idx2user = {i: user for user, i in user2idx.items()}\n",
    "idx2movie = {i: item for item, i in movie2idx.items()}"
   ]
  },
  {
   "cell_type": "code",
   "execution_count": 4,
   "metadata": {},
   "outputs": [],
   "source": [
    "useridx = movie['useridx'] = movie['userId'].apply(lambda x: user2idx[x]).values\n",
    "movieidx = movie['movieidx'] = movie['movieId'].apply(lambda x: movie2idx[x]).values\n",
    "rating = movie['rating'].values"
   ]
  },
  {
   "cell_type": "code",
   "execution_count": 5,
   "metadata": {},
   "outputs": [],
   "source": [
    "import torch\n",
    "import torch.nn.functional as F\n",
    "from torch import nn\n",
    "\n",
    "class MatrixFactorization(nn.Module):\n",
    "    def __init__(self,R, n_users, n_items, n_factors=20):\n",
    "        super().__init__() # 부모 클래스(torch.nn.Module)의 init을 불러옴 \n",
    "        self.user_factors = nn.Embedding(n_users, n_factors)\n",
    "        self.item_factors = nn.Embedding(n_items, n_factors)\n",
    "        self.R = R\n",
    "        \n",
    "    def forward(self, user, item):\n",
    "        pred = (self.user_factors(user) * self.item_factors(item)).sum(1)\n",
    "        return pred\n",
    "    \n",
    "    def complete_matrix(self):\n",
    "        return torch.matmul(model.user_factors.weight, model.item_factors.weight.T)\n",
    "    \n",
    "    def cost(self):\n",
    "        xi, yi = self.R.nonzero()\n",
    "        predicted = self.complete_matrix()\n",
    "        cost = 0\n",
    "        for x, y in zip(xi, yi):\n",
    "            cost += torch.pow(torch.as_tensor(ratings[x, y]) - predicted[x, y], 2)\n",
    "        return torch.pow(cost, 1/2).detach().numpy()"
   ]
  },
  {
   "cell_type": "code",
   "execution_count": 6,
   "metadata": {},
   "outputs": [],
   "source": [
    "n_users = movie['userId'].nunique()\n",
    "n_items = movie['movieId'].nunique()"
   ]
  },
  {
   "cell_type": "code",
   "execution_count": 7,
   "metadata": {},
   "outputs": [],
   "source": [
    "import scipy\n",
    "ratings = scipy.sparse.csr_matrix((rating, (useridx, movieidx)), shape=(len(set(useridx)), len(set(movieidx))))"
   ]
  },
  {
   "cell_type": "code",
   "execution_count": 8,
   "metadata": {},
   "outputs": [],
   "source": [
    "model = MatrixFactorization(ratings, n_users, n_items, n_factors=20)"
   ]
  },
  {
   "cell_type": "code",
   "execution_count": 9,
   "metadata": {},
   "outputs": [],
   "source": [
    "dev = torch.device(\"cuda\") if torch.cuda.is_available() else torch.device(\"cpu\")\n",
    "optimizer = torch.optim.SGD(model.parameters(), lr=5e-2)  # learning rate\n",
    "loss_func = torch.nn.MSELoss()"
   ]
  },
  {
   "cell_type": "code",
   "execution_count": null,
   "metadata": {},
   "outputs": [
    {
     "data": {
      "application/vnd.jupyter.widget-view+json": {
       "model_id": "503d47b0197c425ea4f66093f8307845",
       "version_major": 2,
       "version_minor": 0
      },
      "text/plain": [
       "HBox(children=(FloatProgress(value=0.0, max=10.0), HTML(value='')))"
      ]
     },
     "metadata": {},
     "output_type": "display_data"
    }
   ],
   "source": [
    "rows, cols = ratings.nonzero()\n",
    "\n",
    "nb_epochs = 10\n",
    "for epoch in tqdm_notebook(range(nb_epochs)):\n",
    "    for row, col in zip(*(rows, cols)):\n",
    "        # Set gradients to zero\n",
    "        optimizer.zero_grad()\n",
    "\n",
    "        # Turn data into tensors\n",
    "        rating = torch.FloatTensor([ratings[row, col]])\n",
    "        row = torch.LongTensor([row])\n",
    "        col = torch.LongTensor([col])\n",
    "\n",
    "        # Predict and calculate loss\n",
    "        prediction = model(row, col)\n",
    "        loss = loss_func(prediction, rating)\n",
    "\n",
    "        # Backpropagate\n",
    "        loss.backward()\n",
    "\n",
    "        # Update the parameters\n",
    "        optimizer.step()\n",
    "    cost_ = model.cost()\n",
    "    print('Epoch {:4d}/{} Cost: {:.6f}'.format(epoch+1, nb_epochs, cost_))"
   ]
  },
  {
   "cell_type": "code",
   "execution_count": null,
   "metadata": {},
   "outputs": [],
   "source": []
  }
 ],
 "metadata": {
  "kernelspec": {
   "display_name": "Python 3",
   "language": "python",
   "name": "python3"
  },
  "language_info": {
   "codemirror_mode": {
    "name": "ipython",
    "version": 3
   },
   "file_extension": ".py",
   "mimetype": "text/x-python",
   "name": "python",
   "nbconvert_exporter": "python",
   "pygments_lexer": "ipython3",
   "version": "3.7.3"
  }
 },
 "nbformat": 4,
 "nbformat_minor": 4
}
